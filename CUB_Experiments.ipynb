{
 "cells": [
  {
   "cell_type": "markdown",
   "metadata": {},
   "source": [
    "### Joint Training"
   ]
  },
  {
   "cell_type": "code",
   "execution_count": 1,
   "metadata": {},
   "outputs": [
    {
     "name": "stdout",
     "output_type": "stream",
     "text": [
      "Namespace(attr_loss_weight=0.01, batch_size=64, bottleneck=False, ckpt='1', connect_CY=False, data_dir='CUB_processed/class_attr_data_10', dataset='cub', end2end=True, epochs=20, exp='Joint', expand_dim=0, freeze=False, image_dir='images', log_dir='Joint0.01Model__Seed1/outputs/', lr=0.001, n_attributes=112, n_class_attr=2, no_img=False, normalize_loss=True, optimizer='sgd', pretrained=True, resampling=False, save_step=1000, scheduler_step=5, seed=1, three_class=False, uncertain_labels=False, use_attr=True, use_aux=True, use_relu=False, use_sigmoid=False, weight_decay=0.0004, weighted_loss='multiple')\n",
      "[10.783783783783784, 15.76923076923077, 1.463276836158192, 3.116738197424893, 3.0851788756388414, 3.4613953488372093, 14.724590163934426, 1.4136889783593358, 3.8888888888888893, 6.773095623987034, 3.3560399636693914, 2.815433571996818, 11.050251256281408, 1.430816016218956, 4.68920521945433, 7.08768971332209, 16.06761565836299, 8.787755102040816, 6.001459854014598, 5.542974079126876, 1.339512195121951, 5.97093023255814, 0.5426182052106787, 12.742120343839542, 11.587926509186351, 3.4325323475046208, 2.993338884263114, 18.03174603174603, 2.6610687022900765, 7.2832469775474955, 8.223076923076922, 2.4981765134938003, 4.9503722084367245, 4.648998822143699, 2.2361673414304994, 7.25473321858864, 11.020050125313283, 19.06694560669456, 3.5938697318007664, 14.571428571428571, 9.949771689497718, 5.754929577464789, 5.10178117048346, 1.7034949267192783, 7.384615384615385, 19.236286919831223, 8.3671875, 4.011494252873563, 1.6943820224719102, 14.470967741935484, 0.04306220095693769, 1.945945945945946, 0.5812726673260797, 19.06694560669456, 6.288753799392097, 7.8161764705882355, 12.032608695652174, 1.9441375076734193, 10.726161369193154, 5.642659279778393, 5.764456981664316, 1.570203644158628, 5.188387096774194, 10.841975308641976, 6.862295081967213, 5.125159642401021, 15.481099656357387, 3.2745098039215685, 4.328888888888889, 10.841975308641976, 17.881889763779526, 10.640776699029127, 5.754929577464789, 7.08768971332209, 1.43823080833757, 7.720000000000001, 1.3683950617283949, 5.764456981664316, 0.5960066555740433, 4.346711259754738, 9.72930648769575, 18.736625514403293, 0.6833976833976834, 1.0176693310896088, 7.751824817518248, 13.231454005934719, 1.3057692307692306, 14.62214983713355, 6.862295081967213, 0.33593314763231197, 4.3706606942889135, 3.729783037475345, 6.823817292006526, 2.526470588235294, 3.8839103869653764, 10.231850117096018, 3.412143514259429, 2.6278366111951588, 8.03201506591337, 7.156462585034014, 1.0279069767441862, 17.66147859922179, 19.06694560669456, 6.052941176470588, 7.832412523020258, 17.09811320754717, 1.9550215650030807, 12.285318559556787, 2.709203402938902, 18.900414937759336, 4.032528856243442, 3.5632730732635585]\n",
      "Stop epoch:  5\n",
      "train data path: /mnt/KInsektDaten/data/CUB_processed/class_attr_data_10/train.pkl\n",
      "New model best model at epoch 0\n",
      "Epoch [0]:\tTrain loss: 6.9479\tTrain accuracy: 0.5544\tVal loss: 6.9479\tVal acc: 0.5544\tBest val epoch: 0\n",
      "/home/tchiaburu/anaconda3/lib/python3.8/site-packages/torch/optim/lr_scheduler.py:154: UserWarning: The epoch parameter in `scheduler.step()` was not necessary and is being deprecated where possible. Please use `scheduler.step()` to step the scheduler. During the deprecation, if epoch is different from None, the closed form is used instead of the new chainable form, where available. Please open an issue if you are unable to replicate your use case: https://github.com/pytorch/pytorch/issues/new/choose.\n",
      "  warnings.warn(EPOCH_DEPRECATION_WARNING, UserWarning)\n",
      "/home/tchiaburu/anaconda3/lib/python3.8/site-packages/torch/optim/lr_scheduler.py:369: UserWarning: To get the last learning rate computed by the scheduler, please use `get_last_lr()`.\n",
      "  warnings.warn(\"To get the last learning rate computed by the scheduler, \"\n",
      "Current lr: [0.001]\n",
      "New model best model at epoch 1\n",
      "Epoch [1]:\tTrain loss: 5.5414\tTrain accuracy: 1.3105\tVal loss: 5.5414\tVal acc: 1.3105\tBest val epoch: 1\n",
      "New model best model at epoch 2\n",
      "Epoch [2]:\tTrain loss: 5.2510\tTrain accuracy: 2.0665\tVal loss: 5.2510\tVal acc: 2.0665\tBest val epoch: 2\n",
      "New model best model at epoch 3\n",
      "Epoch [3]:\tTrain loss: 5.0544\tTrain accuracy: 3.4610\tVal loss: 5.0544\tVal acc: 3.4610\tBest val epoch: 3\n",
      "New model best model at epoch 4\n",
      "Epoch [4]:\tTrain loss: 4.8756\tTrain accuracy: 5.3931\tVal loss: 4.8756\tVal acc: 5.3931\tBest val epoch: 4\n",
      "New model best model at epoch 5\n",
      "Epoch [5]:\tTrain loss: 4.7000\tTrain accuracy: 9.3078\tVal loss: 4.7000\tVal acc: 9.3078\tBest val epoch: 5\n",
      "New model best model at epoch 6\n",
      "Epoch [6]:\tTrain loss: 4.5866\tTrain accuracy: 11.5927\tVal loss: 4.5866\tVal acc: 11.5927\tBest val epoch: 6\n",
      "New model best model at epoch 7\n",
      "Epoch [7]:\tTrain loss: 4.5679\tTrain accuracy: 11.9624\tVal loss: 4.5679\tVal acc: 11.9624\tBest val epoch: 7\n",
      "New model best model at epoch 8\n",
      "Epoch [8]:\tTrain loss: 4.5367\tTrain accuracy: 12.9032\tVal loss: 4.5367\tVal acc: 12.9032\tBest val epoch: 8\n",
      "New model best model at epoch 9\n",
      "Epoch [9]:\tTrain loss: 4.5228\tTrain accuracy: 13.0880\tVal loss: 4.5228\tVal acc: 13.0880\tBest val epoch: 9\n",
      "New model best model at epoch 10\n",
      "Epoch [10]:\tTrain loss: 4.5083\tTrain accuracy: 13.4409\tVal loss: 4.5083\tVal acc: 13.4409\tBest val epoch: 10\n",
      "Current lr: [1e-05]\n",
      "New model best model at epoch 11\n",
      "Epoch [11]:\tTrain loss: 4.4957\tTrain accuracy: 13.8945\tVal loss: 4.4957\tVal acc: 13.8945\tBest val epoch: 11\n",
      "New model best model at epoch 12\n",
      "Epoch [12]:\tTrain loss: 4.4678\tTrain accuracy: 14.6841\tVal loss: 4.4678\tVal acc: 14.6841\tBest val epoch: 12\n",
      "Epoch [13]:\tTrain loss: 4.4574\tTrain accuracy: 14.5497\tVal loss: 4.4574\tVal acc: 14.5497\tBest val epoch: 12\n",
      "New model best model at epoch 14\n",
      "Epoch [14]:\tTrain loss: 4.4250\tTrain accuracy: 15.2890\tVal loss: 4.4250\tVal acc: 15.2890\tBest val epoch: 14\n",
      "New model best model at epoch 15\n",
      "Epoch [15]:\tTrain loss: 4.4117\tTrain accuracy: 16.2298\tVal loss: 4.4117\tVal acc: 16.2298\tBest val epoch: 15\n",
      "Epoch [16]:\tTrain loss: 4.3901\tTrain accuracy: 16.0954\tVal loss: 4.3901\tVal acc: 16.0954\tBest val epoch: 15\n",
      "Epoch [17]:\tTrain loss: 4.3776\tTrain accuracy: 16.1794\tVal loss: 4.3776\tVal acc: 16.1794\tBest val epoch: 15\n",
      "New model best model at epoch 18\n",
      "Epoch [18]:\tTrain loss: 4.3531\tTrain accuracy: 16.7339\tVal loss: 4.3531\tVal acc: 16.7339\tBest val epoch: 18\n",
      "New model best model at epoch 19\n",
      "Epoch [19]:\tTrain loss: 4.3408\tTrain accuracy: 17.5403\tVal loss: 4.3408\tVal acc: 17.5403\tBest val epoch: 19\n"
     ]
    }
   ],
   "source": [
    "!python3 ../experiments.py cub Joint --seed 1 -ckpt 1 -log_dir Joint0.01Model__Seed1/outputs/ -e 20 -optimizer sgd -pretrained -use_aux -use_attr -weighted_loss multiple -data_dir CUB_processed/class_attr_data_10 -n_attributes 112 -attr_loss_weight 0.01 -normalize_loss -b 64 -weight_decay 0.0004 -lr 0.001 -scheduler_step 5 -end2end"
   ]
  },
  {
   "cell_type": "markdown",
   "metadata": {},
   "source": [
    "### Inference "
   ]
  },
  {
   "cell_type": "code",
   "execution_count": 1,
   "metadata": {},
   "outputs": [
    {
     "name": "stdout",
     "output_type": "stream",
     "text": [
      "/mnt/KInsektDaten/teo/ConceptBottleneck\n"
     ]
    }
   ],
   "source": [
    "cd .."
   ]
  },
  {
   "cell_type": "code",
   "execution_count": 3,
   "metadata": {},
   "outputs": [
    {
     "name": "stdout",
     "output_type": "stream",
     "text": [
      "Namespace(attribute_group=None, batch_size=16, bottleneck=False, data_dir='CUB_processed/class_attr_data_10', eval_data='test', feature_group_results=False, image_dir='images', log_dir='Joint0.001Model/outputs', model_dirs=['CUB/Joint0.01Model__Seed1/outputs/best_model_1.pth'], model_dirs2=None, n_attributes=112, n_class_attr=2, no_img=False, use_attr=True, use_relu=False, use_sigmoid=False)\n",
      "Average top 1 class accuracy: 33.03417\n",
      "Average top 3 class accuracy: 53.98688\n",
      "Average top 5 class accuracy: 63.77287\n",
      "Average attribute accuracy: 82.71056\n",
      "Total 1's predicted: 0.14047321120370826\n",
      "Avg attribute balanced acc: 0.67637\n",
      "Avg attribute F1 score: 0.49951\n",
      "              precision    recall  f1-score   support\n",
      "\n",
      "           0       0.86      0.93      0.90    515913\n",
      "           1       0.61      0.42      0.50    133015\n",
      "\n",
      "    accuracy                           0.83    648928\n",
      "   macro avg       0.74      0.68      0.70    648928\n",
      "weighted avg       0.81      0.83      0.81    648928\n",
      "\n",
      "\n",
      "Error of y: 0.6697 +- 0.0000, Error of C: 0.1729 +- 0.0000\n",
      "Traceback (most recent call last):\n",
      "  File \"CUB/inference.py\", line 267, in <module>\n",
      "    output = open(os.path.join(args.log_dir, 'results.txt'), 'w')\n",
      "FileNotFoundError: [Errno 2] No such file or directory: 'Joint0.001Model/outputs/results.txt'\n"
     ]
    }
   ],
   "source": [
    "!python3 CUB/inference.py -model_dirs CUB/Joint0.01Model__Seed1/outputs/best_model_1.pth -eval_data test -use_attr -n_attributes 112 -data_dir CUB_processed/class_attr_data_10 -log_dir Joint0.01Model/outputs"
   ]
  }
 ],
 "metadata": {
  "kernelspec": {
   "display_name": "tf2_gpu",
   "language": "python",
   "name": "tf2_gpu"
  },
  "language_info": {
   "codemirror_mode": {
    "name": "ipython",
    "version": 3
   },
   "file_extension": ".py",
   "mimetype": "text/x-python",
   "name": "python",
   "nbconvert_exporter": "python",
   "pygments_lexer": "ipython3",
   "version": "3.9.4"
  }
 },
 "nbformat": 4,
 "nbformat_minor": 4
}
